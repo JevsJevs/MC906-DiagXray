{
 "cells": [
  {
   "cell_type": "code",
   "execution_count": 22,
   "id": "b37058ab",
   "metadata": {},
   "outputs": [
    {
     "data": {
      "text/plain": [
       "15"
      ]
     },
     "execution_count": 22,
     "metadata": {},
     "output_type": "execute_result"
    }
   ],
   "source": [
    "import os\n",
    "import pandas as pd\n",
    "import numpy as np\n",
    "\n",
    "path = os.path.join(os.getcwd(), \"Data_Entry_2017_v2020.csv\")\n",
    "df = pd.read_csv(path)\n",
    "\n",
    "labels = df['Finding Labels'].str.split('|') #'Finding Labels' into list of findings for each entry\n",
    "categories = np.unique(np.concatenate(labels)) #Concatenates itens from all entries findings lists and count the unique ones\n",
    "len(categories) #Confirmed 14 infirmities + 1 'No Findings' categories"
   ]
  }
 ],
 "metadata": {
  "kernelspec": {
   "display_name": ".venv",
   "language": "python",
   "name": "python3"
  },
  "language_info": {
   "codemirror_mode": {
    "name": "ipython",
    "version": 3
   },
   "file_extension": ".py",
   "mimetype": "text/x-python",
   "name": "python",
   "nbconvert_exporter": "python",
   "pygments_lexer": "ipython3",
   "version": "3.10.12"
  }
 },
 "nbformat": 4,
 "nbformat_minor": 5
}
